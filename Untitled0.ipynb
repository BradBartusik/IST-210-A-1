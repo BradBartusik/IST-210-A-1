{
  "nbformat": 4,
  "nbformat_minor": 0,
  "metadata": {
    "colab": {
      "name": "Untitled0.ipynb",
      "provenance": [],
      "authorship_tag": "ABX9TyPbTprXx5icVMI9ALkMt08a",
      "include_colab_link": true
    },
    "kernelspec": {
      "name": "python3",
      "display_name": "Python 3"
    }
  },
  "cells": [
    {
      "cell_type": "markdown",
      "metadata": {
        "id": "view-in-github",
        "colab_type": "text"
      },
      "source": [
        "<a href=\"https://colab.research.google.com/github/BradBartusik/IST-210-A-1/blob/master/Untitled0.ipynb\" target=\"_parent\"><img src=\"https://colab.research.google.com/assets/colab-badge.svg\" alt=\"Open In Colab\"/></a>"
      ]
    },
    {
      "cell_type": "markdown",
      "metadata": {
        "id": "zORrQcUrvcpz",
        "colab_type": "text"
      },
      "source": [
        "# Bradley Bartusik\n"
      ]
    },
    {
      "cell_type": "markdown",
      "metadata": {
        "id": "80yippP_vrA9",
        "colab_type": "text"
      },
      "source": [
        "# IST Interests\n",
        "Most of my IST interests involve the subject of cyber security. I love learning about cyber vunerabilities and how to counter them in a efficient manner."
      ]
    },
    {
      "cell_type": "code",
      "metadata": {
        "id": "iupHItIivZjb",
        "colab_type": "code",
        "colab": {}
      },
      "source": [
        ""
      ],
      "execution_count": 0,
      "outputs": []
    },
    {
      "cell_type": "markdown",
      "metadata": {
        "id": "qI5HBzbqwOOC",
        "colab_type": "text"
      },
      "source": [
        "# Future Career\n",
        "In the field of cyber security, the possibilities are rather endless. One day I hope to become the Chief Security officer of a coorperation. However, if that fails, I hope to join a sector to identify and catch child predators or those involved with Human trafficing  "
      ]
    }
  ]
}